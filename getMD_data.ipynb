{
 "cells": [
  {
   "cell_type": "markdown",
   "metadata": {},
   "source": [
    "## Load fill and beam modes"
   ]
  },
  {
   "cell_type": "code",
   "execution_count": 1,
   "metadata": {
    "collapsed": false
   },
   "outputs": [],
   "source": [
    "import pytimber\n",
    "import datetime\n",
    "import pickle\n",
    "import pagestore\n",
    "import time, calendar\n",
    "import os"
   ]
  },
  {
   "cell_type": "code",
   "execution_count": 2,
   "metadata": {
    "collapsed": false
   },
   "outputs": [
    {
     "name": "stdout",
     "output_type": "stream",
     "text": [
      "ts1 = Jul 28 2016 13:02:17\n",
      "ts2 = Jul 29 2016 07:12:55\n"
     ]
    }
   ],
   "source": [
    "filln=5130\n",
    "\n",
    "mdb=pytimber.LoggingDB(source='mdb')\n",
    "db=pagestore.PageStore('lhc.db','/home/nbiancac/HDD/Work/MD/LHC/DB/')    \n",
    "\n",
    "\n",
    "ts1=mdb.getLHCFillData(fill_number=filln)['startTime']\n",
    "ts2=mdb.getLHCFillData(fill_number=filln)['endTime']\n",
    "\n",
    "# ts1 = time.time()-1*3600\n",
    "# ts2 = time.time()\n",
    "\n",
    "# ts1 = calendar.timegm(time.strptime(\"2016-07-29 04:00:00\",\"%Y-%m-%d %H:%M:%S\"))-2*3600\n",
    "# ts2 = calendar.timegm(time.strptime(\"2016-07-29 07:00:00\",\"%Y-%m-%d %H:%M:%S\"))-2*3600\n",
    "\n",
    "print 'ts1 = '+time.strftime(\"%b %d %Y %H:%M:%S\", time.localtime(ts1))\n",
    "print 'ts2 = '+time.strftime(\"%b %d %Y %H:%M:%S\", time.localtime(ts2))\n",
    "\n",
    "Nsegments = 300"
   ]
  },
  {
   "cell_type": "markdown",
   "metadata": {},
   "source": [
    "### Getting data from Timber and stored in Pagestore"
   ]
  },
  {
   "cell_type": "code",
   "execution_count": null,
   "metadata": {
    "collapsed": false
   },
   "outputs": [],
   "source": [
    "# BCT\n",
    "import LHC_BCT\n",
    "data=mdb.get(LHC_BCT.variable_list(beams=[1,2]),ts1,ts2)\n",
    "db.store(data)"
   ]
  },
  {
   "cell_type": "code",
   "execution_count": null,
   "metadata": {
    "collapsed": true
   },
   "outputs": [],
   "source": [
    "# BBQ\n",
    "import LHC_BBQ\n",
    "times=linspace(ts1,ts2,Nsegments)\n",
    "for ii in np.arange(1,len(times)-1):\n",
    "    data=mdb.get(LHC_BBQ.variable_list(beams=[1,2]),ts1,ts2)\n",
    "    db.store(data)"
   ]
  },
  {
   "cell_type": "code",
   "execution_count": null,
   "metadata": {
    "collapsed": true
   },
   "outputs": [],
   "source": [
    "# BBQ RAW\n",
    "import LHC_BBQ\n",
    "times=linspace(ts1,ts2,Nsegments)\n",
    "for ii in np.arange(110,len(times)-1):\n",
    "    print '%d/%d'%(ii,len(times)-2)\n",
    "    data=mdb.get(LHC_BBQ.variable_list_RAW(beams=[1,2]),times[ii],times[ii+1])\n",
    "    db.store(data)\n",
    "    "
   ]
  },
  {
   "cell_type": "code",
   "execution_count": null,
   "metadata": {
    "collapsed": false,
    "scrolled": true
   },
   "outputs": [],
   "source": [
    "# BSRT\n",
    "import LHC_BSRT\n",
    "times=linspace(ts1,ts2,Nsegments)\n",
    "for ii in np.arange(len(times)-1):\n",
    "    data=mdb.get(LHC_BSRT.variable_list(beams=[1,2]),times[ii],times[ii+1])\n",
    "    db.store(data)"
   ]
  },
  {
   "cell_type": "code",
   "execution_count": null,
   "metadata": {
    "collapsed": false
   },
   "outputs": [],
   "source": [
    "# BQM\n",
    "import LHC_BQM\n",
    "data=mdb.get(LHC_BQM.variable_list(beams=[1,2]),ts1,ts2)\n",
    "db.store(data)"
   ]
  },
  {
   "cell_type": "code",
   "execution_count": null,
   "metadata": {
    "collapsed": true
   },
   "outputs": [],
   "source": [
    "# FBCT\n",
    "times=linspace(ts1,ts2,Nsegments)\n",
    "for ii in np.arange(len(times)-1):\n",
    "    data=mdb.get(LHC_FBCT.variable_list(beams=[1,2]),times[ii],times[ii+1])\n",
    "    db.store(data)"
   ]
  },
  {
   "cell_type": "code",
   "execution_count": null,
   "metadata": {
    "collapsed": false
   },
   "outputs": [],
   "source": [
    "# Energy\n",
    "import LHC_Energy\n",
    "data=mdb.get(LHC_Energy.variable_list(beams=[1,2]),ts1,ts2)\n",
    "db.store(data)"
   ]
  },
  {
   "cell_type": "code",
   "execution_count": null,
   "metadata": {
    "collapsed": false,
    "scrolled": true
   },
   "outputs": [],
   "source": [
    "# Collimators\n",
    "import LHC_Coll\n",
    "data=mdb.get(LHC_Coll.variable_list(beam=1),ts1,ts2)\n",
    "db.store(data)\n",
    "data=mdb.get(LHC_Coll.variable_list(beam=2),ts1,ts2)\n",
    "db.store(data)"
   ]
  }
 ],
 "metadata": {
  "kernelspec": {
   "display_name": "Python [Root]",
   "language": "python",
   "name": "Python [Root]"
  },
  "language_info": {
   "codemirror_mode": {
    "name": "ipython",
    "version": 2
   },
   "file_extension": ".py",
   "mimetype": "text/x-python",
   "name": "python",
   "nbconvert_exporter": "python",
   "pygments_lexer": "ipython2",
   "version": "2.7.12"
  }
 },
 "nbformat": 4,
 "nbformat_minor": 0
}
