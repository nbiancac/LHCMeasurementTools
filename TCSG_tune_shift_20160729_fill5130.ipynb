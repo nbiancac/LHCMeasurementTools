{
 "cells": [
  {
   "cell_type": "markdown",
   "metadata": {},
   "source": [
    "## Load fill and beam modes"
   ]
  },
  {
   "cell_type": "code",
   "execution_count": 1,
   "metadata": {
    "collapsed": false
   },
   "outputs": [
    {
     "name": "stdout",
     "output_type": "stream",
     "text": [
      "Populating the interactive namespace from numpy and matplotlib\n"
     ]
    }
   ],
   "source": [
    "%pylab notebook\n",
    "import pytimber\n",
    "import datetime\n",
    "import pickle\n",
    "import pagestore\n",
    "import time, calendar"
   ]
  },
  {
   "cell_type": "code",
   "execution_count": 2,
   "metadata": {
    "collapsed": false
   },
   "outputs": [
    {
     "name": "stdout",
     "output_type": "stream",
     "text": [
      "ts1 = Jul 29 2016 04:00:00\n",
      "ts2 = Jul 29 2016 07:00:00\n"
     ]
    }
   ],
   "source": [
    "filln=5130\n",
    "\n",
    "mdb=pytimber.LoggingDB(source='mdb')\n",
    "# db=pagestore.PageStore('lhc.db','//afs/cern.ch/user/n/nbiancac/ln_work/scratch0/MD')    \n",
    "db=pagestore.PageStore('lhc.db','/home/nick/HDD/Work/CERN/MD/LHC/DB')    \n",
    "\n",
    "\n",
    "# ts1=mdb.getLHCFillData(fill_number=filln)['startTime']\n",
    "# ts2=mdb.getLHCFillData(fill_number=filln)['endTime']\n",
    "\n",
    "# ts1 = time.time()-1*3600\n",
    "# ts2 = time.time()\n",
    "\n",
    "ts1 = calendar.timegm(time.strptime(\"2016-07-29 04:00:00\",\"%Y-%m-%d %H:%M:%S\"))-2*3600\n",
    "ts2 = calendar.timegm(time.strptime(\"2016-07-29 07:00:00\",\"%Y-%m-%d %H:%M:%S\"))-2*3600\n",
    "\n",
    "print 'ts1 = '+time.strftime\n",
    "(\"%b %d %Y %H:%M:%S\", time.localtime(ts1))\n",
    "print 'ts2 = '+time.strftime(\"%b %d %Y %H:%M:%S\", time.localtime(ts2))"
   ]
  },
  {
   "cell_type": "markdown",
   "metadata": {},
   "source": [
    "### Getting data from Timber and stored in Pagestore"
   ]
  },
  {
   "cell_type": "code",
   "execution_count": null,
   "metadata": {
    "collapsed": false
   },
   "outputs": [],
   "source": [
    "# BCT\n",
    "import LHC_BCT\n",
    "times=linspace(ts1,ts2,40)\n",
    "data=mdb.get(LHC_BCT.variable_list(beams=[1,2]),ts1,ts2)\n",
    "db.store(data)"
   ]
  },
  {
   "cell_type": "code",
   "execution_count": null,
   "metadata": {
    "collapsed": true
   },
   "outputs": [],
   "source": [
    "# BBQ\n",
    "import LHC_BBQ\n",
    "for ii in np.arange(1,len(times)-1):\n",
    "    data=mdb.get(LHC_BBQ.variable_list(beams=[1,2]),ts1,ts2)\n",
    "    db.store(data)"
   ]
  },
  {
   "cell_type": "code",
   "execution_count": 3,
   "metadata": {
    "collapsed": false,
    "scrolled": true
   },
   "outputs": [
    {
     "name": "stdout",
     "output_type": "stream",
     "text": [
      "110/298\n",
      "Rebalance LHC.BQBBQ.CONTINUOUS.B2:ACQ_DATA_V\n",
      "Rebalance LHC.BQBBQ.CONTINUOUS.B1:ACQ_DATA_V\n",
      "Merging 2 pages\n",
      "Rebalance LHC.BQBBQ.CONTINUOUS_HS.B1:ACQ_DATA_V\n",
      "Merging 2 pages\n",
      "Rebalance LHC.BQBBQ.CONTINUOUS_HS.B2:ACQ_DATA_H\n",
      "Merging 2 pages\n",
      "Rebalance LHC.BQBBQ.CONTINUOUS_HS.B1:ACQ_DATA_H\n",
      "Merging 2 pages\n",
      "Rebalance LHC.BQBBQ.CONTINUOUS.B1:ACQ_DATA_H\n",
      "Merging 2 pages\n",
      "Rebalance LHC.BQBBQ.CONTINUOUS_HS.B2:ACQ_DATA_V\n",
      "Merging 2 pages\n",
      "Rebalance LHC.BQBBQ.CONTINUOUS.B2:ACQ_DATA_H\n",
      "Merging 2 pages\n",
      "111/298\n",
      "Rebalance LHC.BQBBQ.CONTINUOUS.B2:ACQ_DATA_V\n",
      "Merging 2 pages\n",
      "Rebalance LHC.BQBBQ.CONTINUOUS.B1:ACQ_DATA_V\n",
      "Merging 2 pages\n",
      "Rebalance LHC.BQBBQ.CONTINUOUS_HS.B1:ACQ_DATA_V\n",
      "Merging 2 pages\n",
      "Rebalance LHC.BQBBQ.CONTINUOUS_HS.B2:ACQ_DATA_H\n",
      "Merging 2 pages\n",
      "Rebalance LHC.BQBBQ.CONTINUOUS_HS.B1:ACQ_DATA_H\n",
      "Merging 2 pages\n",
      "Rebalance LHC.BQBBQ.CONTINUOUS.B1:ACQ_DATA_H\n",
      "Merging 2 pages\n",
      "Rebalance LHC.BQBBQ.CONTINUOUS_HS.B2:ACQ_DATA_V\n",
      "Merging 2 pages\n",
      "Rebalance LHC.BQBBQ.CONTINUOUS.B2:ACQ_DATA_H\n",
      "Merging 2 pages\n",
      "112/298\n",
      "Rebalance LHC.BQBBQ.CONTINUOUS.B2:ACQ_DATA_V\n",
      "Rebalance LHC.BQBBQ.CONTINUOUS.B1:ACQ_DATA_V\n",
      "Rebalance LHC.BQBBQ.CONTINUOUS_HS.B1:ACQ_DATA_V\n",
      "Rebalance LHC.BQBBQ.CONTINUOUS_HS.B2:ACQ_DATA_H\n",
      "Rebalance LHC.BQBBQ.CONTINUOUS_HS.B1:ACQ_DATA_H\n",
      "Rebalance LHC.BQBBQ.CONTINUOUS.B1:ACQ_DATA_H\n",
      "Rebalance LHC.BQBBQ.CONTINUOUS_HS.B2:ACQ_DATA_V\n",
      "Rebalance LHC.BQBBQ.CONTINUOUS.B2:ACQ_DATA_H\n",
      "113/298\n",
      "Rebalance LHC.BQBBQ.CONTINUOUS.B2:ACQ_DATA_V\n",
      "Merging 2 pages\n",
      "Rebalance LHC.BQBBQ.CONTINUOUS.B1:ACQ_DATA_V\n",
      "Merging 2 pages\n",
      "Rebalance LHC.BQBBQ.CONTINUOUS_HS.B1:ACQ_DATA_V\n",
      "Merging 2 pages\n",
      "Rebalance LHC.BQBBQ.CONTINUOUS_HS.B2:ACQ_DATA_H\n",
      "Merging 2 pages\n",
      "Rebalance LHC.BQBBQ.CONTINUOUS_HS.B1:ACQ_DATA_H\n",
      "Merging 2 pages\n",
      "Rebalance LHC.BQBBQ.CONTINUOUS.B1:ACQ_DATA_H\n",
      "Merging 2 pages\n",
      "Rebalance LHC.BQBBQ.CONTINUOUS_HS.B2:ACQ_DATA_V\n",
      "Merging 2 pages\n",
      "Rebalance LHC.BQBBQ.CONTINUOUS.B2:ACQ_DATA_H\n",
      "Merging 2 pages\n",
      "114/298\n",
      "Rebalance LHC.BQBBQ.CONTINUOUS.B2:ACQ_DATA_V\n",
      "Merging 2 pages\n",
      "Rebalance LHC.BQBBQ.CONTINUOUS.B1:ACQ_DATA_V\n",
      "Merging 2 pages\n",
      "Rebalance LHC.BQBBQ.CONTINUOUS_HS.B1:ACQ_DATA_V\n",
      "Merging 2 pages\n",
      "Rebalance LHC.BQBBQ.CONTINUOUS_HS.B2:ACQ_DATA_H\n",
      "Merging 2 pages\n",
      "Rebalance LHC.BQBBQ.CONTINUOUS_HS.B1:ACQ_DATA_H\n",
      "Merging 2 pages\n",
      "Rebalance LHC.BQBBQ.CONTINUOUS.B1:ACQ_DATA_H\n",
      "Merging 2 pages\n",
      "Rebalance LHC.BQBBQ.CONTINUOUS_HS.B2:ACQ_DATA_V\n",
      "Merging 2 pages\n",
      "Rebalance LHC.BQBBQ.CONTINUOUS.B2:ACQ_DATA_H\n",
      "Merging 2 pages\n",
      "115/298\n",
      "Rebalance LHC.BQBBQ.CONTINUOUS.B2:ACQ_DATA_V\n",
      "Rebalance LHC.BQBBQ.CONTINUOUS.B1:ACQ_DATA_V\n",
      "Rebalance LHC.BQBBQ.CONTINUOUS_HS.B1:ACQ_DATA_V\n",
      "Rebalance LHC.BQBBQ.CONTINUOUS_HS.B2:ACQ_DATA_H\n",
      "Rebalance LHC.BQBBQ.CONTINUOUS_HS.B1:ACQ_DATA_H\n",
      "Rebalance LHC.BQBBQ.CONTINUOUS.B1:ACQ_DATA_H\n",
      "Rebalance LHC.BQBBQ.CONTINUOUS_HS.B2:ACQ_DATA_V\n",
      "Rebalance LHC.BQBBQ.CONTINUOUS.B2:ACQ_DATA_H\n",
      "116/298\n",
      "Rebalance LHC.BQBBQ.CONTINUOUS.B2:ACQ_DATA_V\n",
      "Merging 2 pages\n",
      "Rebalance LHC.BQBBQ.CONTINUOUS.B1:ACQ_DATA_V\n",
      "Merging 2 pages\n",
      "Rebalance LHC.BQBBQ.CONTINUOUS_HS.B1:ACQ_DATA_V\n",
      "Merging 2 pages\n",
      "Rebalance LHC.BQBBQ.CONTINUOUS_HS.B2:ACQ_DATA_H\n",
      "Merging 2 pages\n",
      "Rebalance LHC.BQBBQ.CONTINUOUS_HS.B1:ACQ_DATA_H\n",
      "Merging 2 pages\n",
      "Rebalance LHC.BQBBQ.CONTINUOUS.B1:ACQ_DATA_H\n",
      "Merging 2 pages\n",
      "Rebalance LHC.BQBBQ.CONTINUOUS_HS.B2:ACQ_DATA_V\n",
      "Merging 2 pages\n",
      "Rebalance LHC.BQBBQ.CONTINUOUS.B2:ACQ_DATA_H\n",
      "Merging 2 pages\n",
      "117/298\n",
      "Rebalance LHC.BQBBQ.CONTINUOUS.B2:ACQ_DATA_V\n",
      "Merging 2 pages\n",
      "Rebalance LHC.BQBBQ.CONTINUOUS.B1:ACQ_DATA_V\n",
      "Merging 2 pages\n",
      "Rebalance LHC.BQBBQ.CONTINUOUS_HS.B1:ACQ_DATA_V\n",
      "Merging 2 pages\n",
      "Rebalance LHC.BQBBQ.CONTINUOUS_HS.B2:ACQ_DATA_H\n",
      "Merging 2 pages\n",
      "Rebalance LHC.BQBBQ.CONTINUOUS_HS.B1:ACQ_DATA_H\n",
      "Merging 2 pages\n",
      "Rebalance LHC.BQBBQ.CONTINUOUS.B1:ACQ_DATA_H\n",
      "Merging 2 pages\n",
      "Rebalance LHC.BQBBQ.CONTINUOUS_HS.B2:ACQ_DATA_V\n",
      "Merging 2 pages\n",
      "Rebalance LHC.BQBBQ.CONTINUOUS.B2:ACQ_DATA_H\n",
      "Merging 2 pages\n",
      "118/298\n",
      "Rebalance LHC.BQBBQ.CONTINUOUS.B2:ACQ_DATA_V\n",
      "Rebalance LHC.BQBBQ.CONTINUOUS.B1:ACQ_DATA_V\n",
      "Rebalance LHC.BQBBQ.CONTINUOUS_HS.B1:ACQ_DATA_V\n",
      "Rebalance LHC.BQBBQ.CONTINUOUS_HS.B2:ACQ_DATA_H\n",
      "Rebalance LHC.BQBBQ.CONTINUOUS_HS.B1:ACQ_DATA_H\n",
      "Rebalance LHC.BQBBQ.CONTINUOUS.B1:ACQ_DATA_H\n",
      "Rebalance LHC.BQBBQ.CONTINUOUS_HS.B2:ACQ_DATA_V\n",
      "Rebalance LHC.BQBBQ.CONTINUOUS.B2:ACQ_DATA_H\n",
      "119/298\n",
      "Rebalance LHC.BQBBQ.CONTINUOUS.B2:ACQ_DATA_V\n",
      "Merging 2 pages\n",
      "Rebalance LHC.BQBBQ.CONTINUOUS.B1:ACQ_DATA_V\n",
      "Merging 2 pages\n",
      "Rebalance LHC.BQBBQ.CONTINUOUS_HS.B1:ACQ_DATA_V\n",
      "Merging 2 pages\n",
      "Rebalance LHC.BQBBQ.CONTINUOUS_HS.B2:ACQ_DATA_H\n",
      "Merging 2 pages\n",
      "Rebalance LHC.BQBBQ.CONTINUOUS_HS.B1:ACQ_DATA_H\n",
      "Merging 2 pages\n",
      "Rebalance LHC.BQBBQ.CONTINUOUS.B1:ACQ_DATA_H\n",
      "Merging 2 pages\n",
      "Rebalance LHC.BQBBQ.CONTINUOUS_HS.B2:ACQ_DATA_V\n",
      "Merging 2 pages\n",
      "Rebalance LHC.BQBBQ.CONTINUOUS.B2:ACQ_DATA_H\n",
      "Merging 2 pages\n",
      "120/298\n"
     ]
    },
    {
     "ename": "OperationalError",
     "evalue": "attempt to write a readonly database",
     "output_type": "error",
     "traceback": [
      "\u001b[1;31m---------------------------------------------------------------------------\u001b[0m",
      "\u001b[1;31mOperationalError\u001b[0m                          Traceback (most recent call last)",
      "\u001b[1;32m<ipython-input-3-f38250a102fd>\u001b[0m in \u001b[0;36m<module>\u001b[1;34m()\u001b[0m\n\u001b[0;32m      5\u001b[0m     \u001b[1;32mprint\u001b[0m \u001b[1;34m'%d/%d'\u001b[0m\u001b[1;33m%\u001b[0m\u001b[1;33m(\u001b[0m\u001b[0mii\u001b[0m\u001b[1;33m,\u001b[0m\u001b[0mlen\u001b[0m\u001b[1;33m(\u001b[0m\u001b[0mtimes\u001b[0m\u001b[1;33m)\u001b[0m\u001b[1;33m-\u001b[0m\u001b[1;36m2\u001b[0m\u001b[1;33m)\u001b[0m\u001b[1;33m\u001b[0m\u001b[0m\n\u001b[0;32m      6\u001b[0m     \u001b[0mdata\u001b[0m\u001b[1;33m=\u001b[0m\u001b[0mmdb\u001b[0m\u001b[1;33m.\u001b[0m\u001b[0mget\u001b[0m\u001b[1;33m(\u001b[0m\u001b[0mLHC_BBQ\u001b[0m\u001b[1;33m.\u001b[0m\u001b[0mvariable_list_RAW\u001b[0m\u001b[1;33m(\u001b[0m\u001b[0mbeams\u001b[0m\u001b[1;33m=\u001b[0m\u001b[1;33m[\u001b[0m\u001b[1;36m1\u001b[0m\u001b[1;33m,\u001b[0m\u001b[1;36m2\u001b[0m\u001b[1;33m]\u001b[0m\u001b[1;33m)\u001b[0m\u001b[1;33m,\u001b[0m\u001b[0mtimes\u001b[0m\u001b[1;33m[\u001b[0m\u001b[0mii\u001b[0m\u001b[1;33m]\u001b[0m\u001b[1;33m,\u001b[0m\u001b[0mtimes\u001b[0m\u001b[1;33m[\u001b[0m\u001b[0mii\u001b[0m\u001b[1;33m+\u001b[0m\u001b[1;36m1\u001b[0m\u001b[1;33m]\u001b[0m\u001b[1;33m)\u001b[0m\u001b[1;33m\u001b[0m\u001b[0m\n\u001b[1;32m----> 7\u001b[1;33m     \u001b[0mdb\u001b[0m\u001b[1;33m.\u001b[0m\u001b[0mstore\u001b[0m\u001b[1;33m(\u001b[0m\u001b[0mdata\u001b[0m\u001b[1;33m)\u001b[0m\u001b[1;33m\u001b[0m\u001b[0m\n\u001b[0m\u001b[0;32m      8\u001b[0m \u001b[1;33m\u001b[0m\u001b[0m\n",
      "\u001b[1;32m/home/nick/HDD/Work/Anaconda/lib/python2.7/site-packages/pagestore-0.0.17-py2.7.egg/pagestore/pagestore.pyc\u001b[0m in \u001b[0;36mstore\u001b[1;34m(self, data)\u001b[0m\n\u001b[0;32m    223\u001b[0m     \u001b[1;32mdef\u001b[0m \u001b[0mstore\u001b[0m\u001b[1;33m(\u001b[0m\u001b[0mself\u001b[0m\u001b[1;33m,\u001b[0m\u001b[0mdata\u001b[0m\u001b[1;33m)\u001b[0m\u001b[1;33m:\u001b[0m\u001b[1;33m\u001b[0m\u001b[0m\n\u001b[0;32m    224\u001b[0m         \u001b[1;32mfor\u001b[0m \u001b[0mvariable\u001b[0m\u001b[1;33m,\u001b[0m\u001b[1;33m(\u001b[0m\u001b[0midx\u001b[0m\u001b[1;33m,\u001b[0m\u001b[0mrec\u001b[0m\u001b[1;33m)\u001b[0m \u001b[1;32min\u001b[0m \u001b[0mdata\u001b[0m\u001b[1;33m.\u001b[0m\u001b[0mitems\u001b[0m\u001b[1;33m(\u001b[0m\u001b[1;33m)\u001b[0m\u001b[1;33m:\u001b[0m\u001b[1;33m\u001b[0m\u001b[0m\n\u001b[1;32m--> 225\u001b[1;33m             \u001b[0mself\u001b[0m\u001b[1;33m.\u001b[0m\u001b[0mstore_variable\u001b[0m\u001b[1;33m(\u001b[0m\u001b[0mvariable\u001b[0m\u001b[1;33m,\u001b[0m\u001b[0midx\u001b[0m\u001b[1;33m,\u001b[0m\u001b[0mrec\u001b[0m\u001b[1;33m)\u001b[0m\u001b[1;33m\u001b[0m\u001b[0m\n\u001b[0m\u001b[0;32m    226\u001b[0m     \u001b[1;32mdef\u001b[0m \u001b[0mstore_variable\u001b[0m\u001b[1;33m(\u001b[0m\u001b[0mself\u001b[0m\u001b[1;33m,\u001b[0m\u001b[0mvariable\u001b[0m\u001b[1;33m,\u001b[0m\u001b[0midx\u001b[0m\u001b[1;33m,\u001b[0m\u001b[0mrec\u001b[0m\u001b[1;33m)\u001b[0m\u001b[1;33m:\u001b[0m\u001b[1;33m\u001b[0m\u001b[0m\n\u001b[0;32m    227\u001b[0m         \u001b[0mcount\u001b[0m\u001b[1;33m=\u001b[0m\u001b[0mlen\u001b[0m\u001b[1;33m(\u001b[0m\u001b[0midx\u001b[0m\u001b[1;33m)\u001b[0m\u001b[1;33m\u001b[0m\u001b[0m\n",
      "\u001b[1;32m/home/nick/HDD/Work/Anaconda/lib/python2.7/site-packages/pagestore-0.0.17-py2.7.egg/pagestore/pagestore.pyc\u001b[0m in \u001b[0;36mstore_variable\u001b[1;34m(self, variable, idx, rec)\u001b[0m\n\u001b[0;32m    247\u001b[0m                 \u001b[0midx\u001b[0m\u001b[1;33m=\u001b[0m\u001b[0midx\u001b[0m\u001b[1;33m[\u001b[0m\u001b[0mcut\u001b[0m\u001b[1;33m:\u001b[0m\u001b[1;33m]\u001b[0m\u001b[1;33m;\u001b[0m\u001b[0mrec\u001b[0m\u001b[1;33m=\u001b[0m\u001b[0mrec\u001b[0m\u001b[1;33m[\u001b[0m\u001b[0mcut\u001b[0m\u001b[1;33m:\u001b[0m\u001b[1;33m]\u001b[0m\u001b[1;33m\u001b[0m\u001b[0m\n\u001b[0;32m    248\u001b[0m           \u001b[1;32mif\u001b[0m \u001b[0mlen\u001b[0m\u001b[1;33m(\u001b[0m\u001b[0midx\u001b[0m\u001b[1;33m)\u001b[0m\u001b[1;33m>\u001b[0m\u001b[1;36m0\u001b[0m\u001b[1;33m:\u001b[0m\u001b[1;33m\u001b[0m\u001b[0m\n\u001b[1;32m--> 249\u001b[1;33m              \u001b[0mself\u001b[0m\u001b[1;33m.\u001b[0m\u001b[0mstore_page\u001b[0m\u001b[1;33m(\u001b[0m\u001b[0mvariable\u001b[0m\u001b[1;33m,\u001b[0m\u001b[0midx\u001b[0m\u001b[1;33m,\u001b[0m\u001b[0mrec\u001b[0m\u001b[1;33m)\u001b[0m\u001b[1;33m\u001b[0m\u001b[0m\n\u001b[0m\u001b[0;32m    250\u001b[0m         \u001b[1;32mif\u001b[0m \u001b[0mself\u001b[0m\u001b[1;33m.\u001b[0m\u001b[0mmaxpagesize\u001b[0m\u001b[1;33m>\u001b[0m\u001b[1;36m0\u001b[0m\u001b[1;33m:\u001b[0m\u001b[1;33m\u001b[0m\u001b[0m\n\u001b[0;32m    251\u001b[0m            \u001b[0mself\u001b[0m\u001b[1;33m.\u001b[0m\u001b[0mrebalance\u001b[0m\u001b[1;33m(\u001b[0m\u001b[0mvariable\u001b[0m\u001b[1;33m,\u001b[0m\u001b[0mself\u001b[0m\u001b[1;33m.\u001b[0m\u001b[0mmaxpagesize\u001b[0m\u001b[1;33m)\u001b[0m\u001b[1;33m\u001b[0m\u001b[0m\n",
      "\u001b[1;32m/home/nick/HDD/Work/Anaconda/lib/python2.7/site-packages/pagestore-0.0.17-py2.7.egg/pagestore/pagestore.pyc\u001b[0m in \u001b[0;36mstore_page\u001b[1;34m(self, variable, idx, rec, commit)\u001b[0m\n\u001b[0;32m    132\u001b[0m         sql=\"\"\"INSERT INTO pages VALUES\n\u001b[0;32m    133\u001b[0m              (?,?,?,?,?,?,?,?,?,?,?,?,?)\"\"\"\n\u001b[1;32m--> 134\u001b[1;33m         \u001b[0mself\u001b[0m\u001b[1;33m.\u001b[0m\u001b[0mdb\u001b[0m\u001b[1;33m.\u001b[0m\u001b[0mexecute\u001b[0m\u001b[1;33m(\u001b[0m\u001b[0msql\u001b[0m\u001b[1;33m,\u001b[0m\u001b[1;33m[\u001b[0m\u001b[0mvariable\u001b[0m\u001b[1;33m]\u001b[0m\u001b[1;33m+\u001b[0m\u001b[0mpage\u001b[0m\u001b[1;33m.\u001b[0m\u001b[0m_tolist\u001b[0m\u001b[1;33m(\u001b[0m\u001b[1;33m)\u001b[0m\u001b[1;33m+\u001b[0m\u001b[1;33m[\u001b[0m\u001b[0mNone\u001b[0m\u001b[1;33m]\u001b[0m\u001b[1;33m)\u001b[0m\u001b[1;33m\u001b[0m\u001b[0m\n\u001b[0m\u001b[0;32m    135\u001b[0m         \u001b[1;32mif\u001b[0m \u001b[0mcommit\u001b[0m\u001b[1;33m:\u001b[0m\u001b[1;33m\u001b[0m\u001b[0m\n\u001b[0;32m    136\u001b[0m           \u001b[0mself\u001b[0m\u001b[1;33m.\u001b[0m\u001b[0mdb\u001b[0m\u001b[1;33m.\u001b[0m\u001b[0mcommit\u001b[0m\u001b[1;33m(\u001b[0m\u001b[1;33m)\u001b[0m\u001b[1;33m\u001b[0m\u001b[0m\n",
      "\u001b[1;31mOperationalError\u001b[0m: attempt to write a readonly database"
     ]
    }
   ],
   "source": [
    "# BBQ RAW\n",
    "import LHC_BBQ\n",
    "times=linspace(ts1,ts2,300)\n",
    "for ii in np.arange(110,len(times)-1):\n",
    "    print '%d/%d'%(ii,len(times)-2)\n",
    "    data=mdb.get(LHC_BBQ.variable_list_RAW(beams=[1,2]),times[ii],times[ii+1])\n",
    "    db.store(data)\n",
    "    "
   ]
  },
  {
   "cell_type": "code",
   "execution_count": null,
   "metadata": {
    "collapsed": false,
    "scrolled": true
   },
   "outputs": [],
   "source": [
    "# BSRT\n",
    "import LHC_BSRT\n",
    "times=linspace(ts1,ts2,40)\n",
    "for ii in np.arange(len(times)-1):\n",
    "    data=mdb.get(LHC_BSRT.variable_list(beams=[1,2]),times[ii],times[ii+1])\n",
    "    db.store(data)"
   ]
  },
  {
   "cell_type": "code",
   "execution_count": null,
   "metadata": {
    "collapsed": false
   },
   "outputs": [],
   "source": [
    "# BQM\n",
    "import LHC_BQM\n",
    "data=mdb.get(LHC_BQM.variable_list(beams=[1,2]),ts1,ts2)\n",
    "db.store(data)"
   ]
  },
  {
   "cell_type": "code",
   "execution_count": null,
   "metadata": {
    "collapsed": true
   },
   "outputs": [],
   "source": [
    "# FBCT\n",
    "times=linspace(ts1,ts2,40)\n",
    "for ii in np.arange(len(times)-1):\n",
    "    data=mdb.get(LHC_FBCT.variable_list(beams=[1,2]),times[ii],times[ii+1])\n",
    "    db.store(data)"
   ]
  },
  {
   "cell_type": "code",
   "execution_count": null,
   "metadata": {
    "collapsed": false
   },
   "outputs": [],
   "source": [
    "# Energy\n",
    "import LHC_Energy\n",
    "data=mdb.get(LHC_Energy.variable_list(beams=[1,2]),ts1,ts2)\n",
    "db.store(data)"
   ]
  },
  {
   "cell_type": "code",
   "execution_count": null,
   "metadata": {
    "collapsed": false,
    "scrolled": true
   },
   "outputs": [],
   "source": [
    "import LHC_Coll\n",
    "data=mdb.get(LHC_Coll.variable_list(beam=1),ts1,ts2)\n",
    "db.store(data)\n",
    "data=mdb.get(LHC_Coll.variable_list(beam=2),ts1,ts2)\n",
    "db.store(data)"
   ]
  },
  {
   "cell_type": "markdown",
   "metadata": {},
   "source": [
    "### Retrieve data from database and start analysis"
   ]
  },
  {
   "cell_type": "code",
   "execution_count": null,
   "metadata": {
    "collapsed": false
   },
   "outputs": [],
   "source": [
    "import LHC_BBQ, LHC_BCT, LHC_Energy, LHC_Coll, LHC_BQM, LHC_BSRT, LHC_FBCT\n",
    "\n",
    "output_path='/afs/cern.ch/user/n/nbiancac/ln_work/scratch0/DELPHI_results/LHC/%s/'%(str(filln))\n",
    "tag=''\n",
    "beam=2\n",
    "# ts1 = calendar.timegm(time.strptime(\"2016-07-29 02:55:00\",\"%Y-%m-%d %H:%M:%S\"))-2*3600\n",
    "# ts2 = calendar.timegm(time.strptime(\"2016-07-29 03:00:00\",\"%Y-%m-%d %H:%M:%S\"))-2*3600\n",
    "\n"
   ]
  },
  {
   "cell_type": "code",
   "execution_count": null,
   "metadata": {
    "collapsed": false
   },
   "outputs": [],
   "source": [
    "# BCT\n",
    "import LHC_BCT\n",
    "data=db.get(LHC_BCT.variable_list(beams=[1,2]),ts1,ts2)\n",
    "\n",
    "plt.figure()\n",
    "plt.plot(data['LHC.BCTDC.A6R4.B1:BEAM_INTENSITY'][0],data['LHC.BCTDC.A6R4.B1:BEAM_INTENSITY'][1])\n",
    "plt.plot(data['LHC.BCTDC.A6R4.B2:BEAM_INTENSITY'][0],data['LHC.BCTDC.A6R4.B2:BEAM_INTENSITY'][1],'r')"
   ]
  },
  {
   "cell_type": "code",
   "execution_count": null,
   "metadata": {
    "collapsed": false
   },
   "outputs": [],
   "source": [
    "reload(LHC_BSRT)\n",
    "data=db.get(LHC_BSRT.variable_list(beams=[beam]),ts1,ts2)\n",
    "\n",
    "import TimberManager as tm\n",
    "\n",
    "varlist = LHC_BSRT.variable_list(beams=[beam])\n",
    "print varlist\n",
    "sigma_h = tm.timber_variable_list()\n",
    "sigma_v = tm.timber_variable_list()\n",
    "gate = tm.timber_variable_list()\n",
    "sigma_h.t_stamps, sigma_h.values = data[varlist[0]]\n",
    "sigma_v.t_stamps, sigma_v.values = data[varlist[1]]\n",
    "sigma_v.t_str=[datetime.datetime.fromtimestamp(sigma_v.t_stamps[ii]) for ii in np.arange(len(sigma_v.t_stamps))]\n",
    "gate.t_stamps, gate.values = data[varlist[2]]\n",
    "\n",
    "dict_timber={}\n",
    "dict_timber[varlist[0]]=sigma_h\n",
    "dict_timber[varlist[1]]=sigma_v\n",
    "dict_timber[varlist[2]]=gate\n",
    "BSRT=LHC_BSRT.BSRT(dict_timber,beam=beam)\n",
    "\n"
   ]
  },
  {
   "cell_type": "code",
   "execution_count": null,
   "metadata": {
    "collapsed": false
   },
   "outputs": [],
   "source": [
    "# Energy\n",
    "reload(LHC_Energy)\n",
    "data=db.get(LHC_Energy.variable_list(beams=[beam]),ts1,ts2)\n",
    "Energy = LHC_Energy.energy(data, beam = beam)\n",
    "LHC_Energy.variable_list(beams=[beam])\n",
    "\n",
    "BSRT.calculate_emittances(Energy)\n",
    "figure()\n",
    "\n",
    "plot(BSRT.t_str,BSRT.norm_emit_v)\n",
    "plot(BSRT.t_str,BSRT.norm_emit_h)\n",
    "hfmt = DateFormatter('%H:%M')\n",
    "gca().xaxis.set_major_formatter(hfmt)\n",
    "tight_layout()"
   ]
  },
  {
   "cell_type": "code",
   "execution_count": null,
   "metadata": {
    "collapsed": false
   },
   "outputs": [],
   "source": [
    "# BBQ\n",
    "data=db.get(LHC_BBQ.variable_list(beams=[1,2]),ts1,ts2)\n",
    "BBQ=LHC_BBQ.BBQ(data,beam=beam)\n",
    "BBQ_FFT=LHC_BBQ.BBQ_FFT(data,beam=beam)\n",
    "\n",
    "\n",
    "figure()\n",
    "plot( (BBQ_FFT.fft_h[0]), \"-\" )\n",
    "plot( (BBQ_FFT.fft_v[0]), \"-r\" )\n",
    "title(BBQ_FFT.t_str[0])\n",
    "\n",
    "# Waterfall\n",
    "figure(figsize=(12,8))\n",
    "subplot(121)\n",
    "mindate = mpl.dates.date2num(BBQ_FFT.t_str[0])\n",
    "maxdate = mpl.dates.date2num(BBQ_FFT.t_str[-1])\n",
    "img = plt.imshow(BBQ_FFT.fft_h, origin='lower', cmap='jet', interpolation='nearest', aspect='auto',\n",
    "                extent=(0, 0.5, mindate, maxdate))\n",
    "\n",
    "hfmt = DateFormatter('%H:%M:%S')\n",
    "gca().yaxis.set_major_formatter(hfmt)\n",
    "\n",
    "title('B%d H BBQ-FFT: '%BBQ_FFT.beam +\n",
    "    str(BBQ_FFT.t_str[0].strftime('%d/%m/%y %H:%M:%S')) +'->'+\n",
    "      str(BBQ_FFT.t_str[-1].strftime('%d/%m/%y %H:%M:%S')))\n",
    "\n",
    "xlim(0.25, 0.35)\n",
    "\n",
    "subplot(122)\n",
    "mindate = mpl.dates.date2num(BBQ_FFT.t_str[0])\n",
    "maxdate = mpl.dates.date2num(BBQ_FFT.t_str[-1])\n",
    "img = plt.imshow(BBQ_FFT.fft_v, origin='lower', cmap='jet', interpolation='nearest', aspect='auto',\n",
    "                extent=(0, 0.5, mindate, maxdate))\n",
    "\n",
    "hfmt = DateFormatter('%H:%M:%S')\n",
    "gca().yaxis.set_major_formatter(hfmt)\n",
    "\n",
    "title('B%d V BBQ-FFT: '%BBQ_FFT.beam +\n",
    "    str(BBQ_FFT.t_str[0].strftime('%d/%m/%y %H:%M:%S')) +'->'+\n",
    "      str(BBQ_FFT.t_str[-1].strftime('%d/%m/%y %H:%M:%S')))\n",
    "\n",
    "xlim(0.25, 0.35)\n",
    "tight_layout()"
   ]
  },
  {
   "cell_type": "code",
   "execution_count": null,
   "metadata": {
    "collapsed": false
   },
   "outputs": [],
   "source": [
    "# RAW BBQ\n",
    "data=db.get(LHC_BBQ.variable_list_RAW(beams=[beam]),ts1,ts2)\n",
    "BBQ_RAW=LHC_BBQ.BBQG_RAW(data,beam=beam)"
   ]
  },
  {
   "cell_type": "code",
   "execution_count": null,
   "metadata": {
    "collapsed": true
   },
   "outputs": [],
   "source": [
    "# Collimators\n",
    "data=db.get(LHC_Coll.variable_list(beam),ts1,ts2)\n",
    "\n",
    "Coll=LHC_Coll.Coll(data,beam=beam)\n",
    "typecoll=['R','L']\n",
    "Coll.select_coll('TCSG.A4'+typecoll[beam-1]+'7.B'+str(beam)+':MEAS_LVDT_GU')\n",
    "\n",
    "figure()\n",
    "plot(Coll.t_str, Coll.values, \"-b\")\n",
    "xlabel(\"Time\")\n",
    "ylabel(\"Collimator gap\")\n",
    "title('B%d'%(Coll.beam))\n",
    "xfmt = mpl.dates.DateFormatter('%H:%M')\n",
    "gca().xaxis.set_major_formatter(xfmt)"
   ]
  },
  {
   "cell_type": "markdown",
   "metadata": {},
   "source": [
    "### Clean uncorrelated noise with SVD cut"
   ]
  },
  {
   "cell_type": "code",
   "execution_count": null,
   "metadata": {
    "collapsed": false
   },
   "outputs": [],
   "source": [
    "# eigval=15;\n",
    "# U, s, V = np.linalg.svd(BBQ_RAW.v, full_matrices=False)\n",
    "# s[eigval:-1]=0\n",
    "# BBQ_RAW.v=np.dot(U,np.dot(np.diag(s),V))\n",
    "\n",
    "# U, s, V = np.linalg.svd(BBQ_RAW.h, full_matrices=False)\n",
    "# s[eigval:-1]=0\n",
    "# BBQ_RAW.h=np.dot(U,np.dot(np.diag(s),V))\n",
    "\n",
    "# figure()\n",
    "# subplot(2,1,1)\n",
    "# semilogx(s)\n",
    "\n",
    "# subplot(2,1,2)\n",
    "# plot(BBQ_RAW.v[0],'-r')\n",
    "\n"
   ]
  },
  {
   "cell_type": "markdown",
   "metadata": {},
   "source": [
    "###  Sussix"
   ]
  },
  {
   "cell_type": "code",
   "execution_count": null,
   "metadata": {
    "collapsed": false
   },
   "outputs": [],
   "source": [
    "import PySUSSIX as ps\n",
    "\n",
    "# Sussix settings\n",
    "nt1=1; nt2=4096;\n",
    "nharm = 5\n",
    "[tunex_min, tunex_max] = [0.2697 , 0.2703]\n",
    "[tuney_min, tuney_max] = [0.2941 , 0.2964]\n",
    "\n",
    "tunex0 = np.mean(np.array([tunex_min, tunex_max]))\n",
    "tuney0 = np.mean(np.array([tuney_min, tuney_max]))\n",
    "ex0 = 1e-3\n",
    "ey0 = 1e-3\n",
    "\n",
    "tuney_vec=[];tunex_vec=[];\n",
    "spec_ox=[]; spec_oy=[]\n",
    "\n",
    "for ii in np.arange(0, len(BBQ_RAW.v)):\n",
    "    \n",
    "    datax=BBQ_RAW.h[ii][nt1:nt2]-np.mean(BBQ_RAW.h[ii][nt1:nt2])\n",
    "    datay=BBQ_RAW.v[ii][nt1:nt2]-np.mean(BBQ_RAW.v[ii][nt1:nt2])\n",
    "    spec=ps.Sussix()\n",
    "    spec.sussix_inp(nt1=nt1,nt2=nt2,tunex=tunex0,tuney=tuney0,ex=ex0,ey=ey0,ir=1,nharm=nharm)\n",
    "    spec.sussix(datax,0*datax, \n",
    "                datay, 0*datay, \n",
    "                0*datax, 0*datay)\n",
    "    \n",
    "\n",
    "    \n",
    "    spec.ox=np.abs(spec.ox)\n",
    "    spec.oy=np.abs(spec.oy)\n",
    "    \n",
    "    spec_ox.append(spec.ox[0:nharm-1])\n",
    "    spec_oy.append(spec.oy[0:nharm-1])\n",
    "\n",
    "    rangey=np.array([tuney_min, tuney_max])\n",
    "    spec.oy=spec.oy[(np.abs(spec.oy) < rangey.max()) & (np.abs(spec.oy) > rangey.min())]\n",
    "    spec.ay=spec.ay[(np.abs(spec.oy) < rangey.max()) & (np.abs(spec.oy) > rangey.min())]\n",
    "\n",
    "    rangex=np.array([tunex_min, tunex_max])\n",
    "    spec.ox=spec.ox[(np.abs(spec.ox) < rangex.max()) & (np.abs(spec.ox) > rangex.min())]\n",
    "    spec.ax=spec.ax[(np.abs(spec.ox) < rangex.max()) & (np.abs(spec.ox) > rangex.min())]\n",
    "    \n",
    "    if len(spec.ay):\n",
    "        tuney=spec.oy[spec.ay.argmax()]\n",
    "    else:\n",
    "        tuney=np.NaN\n",
    "    \n",
    "    if len(spec.ax):\n",
    "        tunex=spec.ox[spec.ax.argmax()]\n",
    "    else:\n",
    "        tunex=np.NaN\n",
    "    \n",
    "    tunex_vec.append(tunex)\n",
    "    tuney_vec.append(tuney)\n",
    "    \n",
    "\n",
    "BBQ_RAW.qh=np.array(tunex_vec)\n",
    "BBQ_RAW.qv=np.array(tuney_vec)"
   ]
  },
  {
   "cell_type": "code",
   "execution_count": null,
   "metadata": {
    "collapsed": false
   },
   "outputs": [],
   "source": [
    "# plot tunes\n",
    "figure()\n",
    "subplot(2,1,1)\n",
    "for ii in np.arange(0, len(BBQ_RAW.qh)):\n",
    "    plot(ii*ones(len(spec_ox[ii])),spec_ox[ii],'ok',alpha=0.2,markerfacecolor='k',markeredgecolor='k')\n",
    "# plot(BBQ_RAW.qh,'or')\n",
    "ylabel('Qx')\n",
    "ylim(0.2 ,0.35)\n",
    "subplot(2,1,2)\n",
    "for ii in np.arange(0, len(BBQ_RAW.qv)):\n",
    "    plot(ii*ones(len(spec_ox[ii])),spec_ox[ii],'ok',alpha=0.2,markerfacecolor='k',markeredgecolor='k')\n",
    "plot(BBQ_RAW.qv,'or')\n",
    "ylabel('Qy')\n",
    "ylim(0.2 ,0.35)"
   ]
  },
  {
   "cell_type": "markdown",
   "metadata": {},
   "source": [
    "### Interpolate gaps on tune data"
   ]
  },
  {
   "cell_type": "code",
   "execution_count": null,
   "metadata": {
    "collapsed": false
   },
   "outputs": [],
   "source": [
    "# Get rid of the nans...\n",
    "ind_nan=~np.isnan(BBQ_RAW.qh) & ~np.isnan(BBQ_RAW.qv)\n",
    "temp_h=BBQ_RAW.qh[ind_nan]\n",
    "temp_v=BBQ_RAW.qv[ind_nan]\n",
    "temp_t_stamps=BBQ_RAW.t_stamps[ind_nan]\n",
    "temp_t_str= np.array(BBQ_RAW.t_str)[ind_nan]\n",
    "\n",
    "print len(BBQ_RAW.qh), len(BBQ_RAW.qv)\n",
    "\n",
    "BBQ_RAW.qh=temp_h;\n",
    "BBQ_RAW.qv=temp_v;\n",
    "BBQ_RAW.t_stamps= temp_t_stamps\n",
    "BBQ_RAW.t_str= temp_t_str\n",
    "\n",
    "print len(BBQ_RAW.qh), len(BBQ_RAW.qv)\n",
    "\n",
    "# Interpolate collgaps\n",
    "len(Coll.t_str), len(BBQ_RAW.t_str)\n",
    "Coll.interp_with(BBQ_RAW)\n",
    "len(Coll.t_str), len(BBQ_RAW.t_str)"
   ]
  },
  {
   "cell_type": "code",
   "execution_count": null,
   "metadata": {
    "collapsed": false
   },
   "outputs": [],
   "source": [
    "fig, ax1 = plt.subplots()\n",
    "ax1.plot(Coll.t_str, Coll.values, 'b-')\n",
    "ax1.set_xlabel('time')\n",
    "ax1.set_ylabel('Collimator full gap [mm]', color='b')\n",
    "for tl in ax1.get_yticklabels():\n",
    "    tl.set_color('b')\n",
    "xfmt = mpl.dates.DateFormatter('%H:%M')\n",
    "ax1.xaxis.set_major_formatter(xfmt)\n",
    "\n",
    "ax2 = ax1.twinx()\n",
    "ax2.plot(BBQ_RAW.t_str, BBQ_RAW.qh,  'ok',alpha=0.2,markerfacecolor='k',markeredgecolor='k')\n",
    "ax2.set_ylabel('$Q_x$', color='k')\n",
    "for tl in ax2.get_yticklabels():\n",
    "    tl.set_color('k')\n",
    "ylim(rangex.min(), rangex.max())\n",
    "\n",
    "fig, ax1 = plt.subplots()\n",
    "ax1.plot(Coll.t_str, Coll.values, 'b-')\n",
    "ax1.set_xlabel('time')\n",
    "ax1.set_ylabel('Collimator full gap [mm]', color='b')\n",
    "for tl in ax1.get_yticklabels():\n",
    "    tl.set_color('b')\n",
    "xfmt = mpl.dates.DateFormatter('%H:%M')\n",
    "ax1.xaxis.set_major_formatter(xfmt)\n",
    "\n",
    "ax2 = ax1.twinx()\n",
    "ax2.plot(BBQ_RAW.t_str, BBQ_RAW.qv,  'or',alpha=0.2,markerfacecolor='r',markeredgecolor='r')\n",
    "ax2.set_ylabel('$Q_y$', color='k')\n",
    "for tl in ax2.get_yticklabels():\n",
    "    tl.set_color('k')\n",
    "ylim(rangey.min(), rangey.max())"
   ]
  },
  {
   "cell_type": "markdown",
   "metadata": {},
   "source": [
    "### Moving average"
   ]
  },
  {
   "cell_type": "code",
   "execution_count": null,
   "metadata": {
    "collapsed": false
   },
   "outputs": [],
   "source": [
    "N=500\n",
    "\n",
    "BBQ_RAW.qv_ma=np.convolve(np.ravel(BBQ_RAW.qv), np.ones((N,))/N,mode='same')\n",
    "\n",
    "BBQ_RAW.qh_ma=np.convolve(np.ravel(BBQ_RAW.qh), np.ones((N,))/N,mode='same')\n",
    "\n",
    "Coll.values_ma=np.convolve(np.ravel(Coll.values), np.ones((N,))/N,mode='same')\n",
    "\n",
    "fig, ax1 = plt.subplots()\n",
    "ax1.plot(Coll.t_str, Coll.values_ma, 'b-')\n",
    "ax1.set_xlabel('time')\n",
    "ax1.set_ylabel('Coll', color='b')\n",
    "for tl in ax1.get_yticklabels():\n",
    "    tl.set_color('b')\n",
    "xfmt = mpl.dates.DateFormatter('%H:%M')\n",
    "ax1.xaxis.set_major_formatter(xfmt)\n",
    "\n",
    "ax2 = ax1.twinx()\n",
    "ax2.plot(BBQ_RAW.t_str, BBQ_RAW.qh, 'k.')\n",
    "ax2.plot(BBQ_RAW.t_str, BBQ_RAW.qh_ma, '-r')\n",
    "ax2.set_ylabel('$Q_x$', color='k')\n",
    "for tl in ax2.get_yticklabels():\n",
    "    tl.set_color('k')\n",
    "ylim(rangex.min(), rangex.max())\n",
    "\n",
    "fig, ax1 = plt.subplots()\n",
    "ax1.plot(Coll.t_str, Coll.values_ma, 'b-')\n",
    "ax1.set_xlabel('time')\n",
    "ax1.set_ylabel('Coll', color='b')\n",
    "for tl in ax1.get_yticklabels():\n",
    "    tl.set_color('b')\n",
    "xfmt = mpl.dates.DateFormatter('%H:%M')\n",
    "ax1.xaxis.set_major_formatter(xfmt)\n",
    "\n",
    "ax2 = ax1.twinx()\n",
    "ax2.plot(BBQ_RAW.t_str, BBQ_RAW.qv, 'r.')\n",
    "ax2.plot(BBQ_RAW.t_str, BBQ_RAW.qv_ma, '-k')\n",
    "ax2.set_ylabel('$Q_y$', color='k')\n",
    "for tl in ax2.get_yticklabels():\n",
    "    tl.set_color('k')\n",
    "ylim(rangey.min(), rangey.max())\n",
    "\n"
   ]
  },
  {
   "cell_type": "code",
   "execution_count": null,
   "metadata": {
    "collapsed": false
   },
   "outputs": [],
   "source": []
  },
  {
   "cell_type": "code",
   "execution_count": null,
   "metadata": {
    "collapsed": false
   },
   "outputs": [],
   "source": [
    "gu=5.2;\n",
    "gd=3.5\n",
    "\n",
    "mask=(Coll.values_ma>gu) #| (Coll.values<gd)\n",
    "\n",
    "fig, ax1 = plt.subplots()\n",
    "ax1.plot(Coll.t_str, Coll.values_ma, 'b-')\n",
    "ax1.set_xlabel('time')\n",
    "ax1.set_ylabel('TDI', color='b')\n",
    "for tl in ax1.get_yticklabels():\n",
    "    tl.set_color('b')\n",
    "xfmt = mpl.dates.DateFormatter('%H:%M')\n",
    "ax1.xaxis.set_major_formatter(xfmt)\n",
    "\n",
    "ax2 = ax1.twinx()\n",
    "ax2.plot(np.array(BBQ_RAW.t_str)[mask], BBQ_RAW.qv_ma[mask], 'r.')\n",
    "ax2.set_ylabel('BBQ', color='k')\n",
    "for tl in ax2.get_yticklabels():\n",
    "    tl.set_color('k')\n",
    "ylim(rangey.min(), rangey.max())\n"
   ]
  },
  {
   "cell_type": "code",
   "execution_count": null,
   "metadata": {
    "collapsed": false
   },
   "outputs": [],
   "source": [
    "gu=5.2;\n",
    "gd=3.5\n",
    "plane='V'\n",
    "\n",
    "# get out slope from measurement\n",
    "x=BBQ_RAW.t_stamps\n",
    "y=BBQ_RAW.qv_ma\n",
    "\n",
    "mask_tune=(y<tuney_max) & (y>tuney_min)\n",
    "p=np.polyfit(x[mask_tune],y[mask_tune],1)\n",
    "slope=p[0]\n",
    "intercept=p[1]\n",
    "fit=slope*x+intercept\n",
    "\n",
    "figure()\n",
    "plot(BBQ_RAW.t_stamps,BBQ_RAW.qv_ma)\n",
    "plot(BBQ_RAW.t_stamps[mask_tune],fit[mask_tune])\n",
    "ylim(tuney_min, tuney_max)\n",
    "\n",
    "# Upper gap\n",
    "mask1=(Coll.values_ma>gu) \n",
    "x=BBQ_RAW.t_stamps[mask1]\n",
    "y=BBQ_RAW.qv_ma[mask1]\n",
    "fit1=fit[mask1]\n",
    "\n",
    "mask_tune=(y<tuney_max) & (y>tuney_min)\n",
    "\n",
    "y1=y-fit1\n",
    "y1_mean=np.mean(y1[mask_tune])\n",
    "y1_std=np.std(y1[mask_tune])\n",
    "\n",
    "# Lower gap\n",
    "mask2=(Coll.values_ma<gd) \n",
    "x=BBQ_RAW.t_stamps[mask2]\n",
    "y=BBQ_RAW.qv_ma[mask2]\n",
    "\n",
    "fit2=fit[mask2]\n",
    "mask_tune=(y<tuney_max) & (y>tuney_min)\n",
    "\n",
    "y2=y-fit2\n",
    "y2_mean=np.mean(y2[mask_tune])\n",
    "y2_std=np.std(y2[mask_tune])\n",
    "\n",
    "ts_mean=y1_mean- y2_mean\n",
    "ts_std=y1_std+y2_std\n",
    "\n",
    "figure(figsize=(10,5), facecolor='white')\n",
    "ax1 = plt.subplot2grid((1, 3), (0, 0), colspan=2)\n",
    "h2, = ax1.plot(Coll.t_str, Coll.values_ma, 'b-')\n",
    "ax1.set_xlabel('time')\n",
    "ax1.set_ylabel('Collimator full gap [mm]', color='b')\n",
    "for tl in ax1.get_yticklabels():\n",
    "    tl.set_color('b')\n",
    "xfmt = mpl.dates.DateFormatter('%H:%M')\n",
    "ax1.xaxis.set_major_formatter(xfmt)\n",
    "ax1.annotate('$\\Delta Q_'+plane+'$= %.1e+/-%.1e'%(ts_mean,ts_std),xy=(Coll.t_str[5], Coll.values_ma[5]))\n",
    "title(tag.replace('_',' ')+' B'+str(beam)+plane)\n",
    "ax2 = ax1.twinx()\n",
    "h0, = ax2.plot(np.array(BBQ_RAW.t_str)[mask1], y1, 'or',alpha=0.5,markerfacecolor='r',markeredgecolor='r')\n",
    "h1, = ax2.plot(np.array(BBQ_RAW.t_str)[mask2][mask_tune], y2[mask_tune], 'ok',alpha=.5,markerfacecolor='k',markeredgecolor='k')\n",
    "ax2.set_ylim(-2.5e-4, 2.5e-4)\n",
    "ax2.yaxis.set_ticks([])\n",
    "\n",
    "legend([h0, h1, h2],['$Q_'+plane+'$ gap up' , '$Q_'+plane+'$ gap down', 'Collimator full gap'])\n",
    "\n",
    "\n",
    "# distribution\n",
    "ax1 = plt.subplot2grid((1, 3), (0, 2), colspan=1)\n",
    "ax1.set_ylim(-2.5e-4, 2.5e-4)\n",
    "ax1.yaxis.set_ticks([])\n",
    "ax1.xaxis.set_ticks([])\n",
    "\n",
    "ax2=ax1.twinx()\n",
    "n, bins, patches = hist(y1, 100, range = (-2.5e-4, 2.5e-4), normed=1, facecolor='r', alpha=0.75, orientation=\"horizontal\")\n",
    "n, bins, patches = hist(y2, 100, range = (-2.5e-4, 2.5e-4), normed=1, facecolor='k', alpha=0.75, orientation=\"horizontal\")\n",
    "ax2.yaxis.tick_right()\n",
    "ax2.yaxis.set_ticks([-2e-4, -1e-4, 0, 1e-4, 2e-4])\n",
    "ax2.set_ylabel('$\\Delta Q_'+plane+'$')\n",
    "ax2.set_ylim(-2.5e-4, 2.5e-4)\n",
    "tight_layout()\n",
    "\n",
    "\n",
    "print '%.1e+/-%.1e'%(y1_mean,y1_std)\n",
    "print '%.1e+/-%.1e'%(y2_mean,y2_std)\n",
    "print 'tune shift: %.1e+/-%.1e'%(ts_mean,ts_std)\n",
    "\n",
    "savefig(output_path+tag+'_vs_gap_B'+str(beam)+plane+'.pdf', transparent=True)\n",
    "savefig(output_path+tag+'_vs_gap_B'+str(beam)+plane+'.png', transparent=True)\n",
    "output_path+tag+'_vs_gap_B'+str(beam)+plane+'.pdf'"
   ]
  },
  {
   "cell_type": "code",
   "execution_count": null,
   "metadata": {
    "collapsed": false
   },
   "outputs": [],
   "source": [
    "gu=5.2;\n",
    "gd=3.5\n",
    "plane='H'\n",
    "\n",
    "# get out slope from measurement\n",
    "x=BBQ_RAW.t_stamps\n",
    "y=BBQ_RAW.qh_ma\n",
    "\n",
    "mask_tune=(y<tunex_max) & (y>tunex_min)\n",
    "p=np.polyfit(x[mask_tune],y[mask_tune],1)\n",
    "slope=p[0]\n",
    "intercept=p[1]\n",
    "fit=slope*x+intercept\n",
    "\n",
    "figure()\n",
    "plot(BBQ_RAW.t_stamps,BBQ_RAW.qh_ma)\n",
    "plot(BBQ_RAW.t_stamps[mask_tune],fit[mask_tune])\n",
    "ylim(tunex_min, tunex_max)\n",
    "\n",
    "# Upper gap\n",
    "mask1=(Coll.values_ma>gu) \n",
    "x=BBQ_RAW.t_stamps[mask1]\n",
    "y=BBQ_RAW.qh_ma[mask1]\n",
    "fit1=fit[mask1]\n",
    "\n",
    "mask_tune=(y<tunex_max) & (y>tunex_min)\n",
    "\n",
    "y1=y-fit1\n",
    "y1_mean=np.mean(y1[mask_tune])\n",
    "y1_std=np.std(y1[mask_tune])\n",
    "\n",
    "# Lower gap\n",
    "mask2=(Coll.values_ma<gd) \n",
    "x=BBQ_RAW.t_stamps[mask2]\n",
    "y=BBQ_RAW.qh_ma[mask2]\n",
    "\n",
    "fit2=fit[mask2]\n",
    "mask_tune=(y<tunex_max) & (y>tunex_min)\n",
    "\n",
    "y2=y-fit2\n",
    "y2_mean=np.mean(y2[mask_tune])\n",
    "y2_std=np.std(y2[mask_tune])\n",
    "\n",
    "ts_mean=y1_mean- y2_mean\n",
    "ts_std=y1_std+y2_std\n",
    "\n",
    "figure(figsize=(10,5), facecolor='white')\n",
    "ax1 = plt.subplot2grid((1, 3), (0, 0), colspan=2)\n",
    "h2, = ax1.plot(Coll.t_str, Coll.values_ma, 'b-')\n",
    "ax1.set_xlabel('time')\n",
    "ax1.set_ylabel('Collimator full gap [mm]', color='b')\n",
    "for tl in ax1.get_yticklabels():\n",
    "    tl.set_color('b')\n",
    "xfmt = mpl.dates.DateFormatter('%H:%M')\n",
    "ax1.xaxis.set_major_formatter(xfmt)\n",
    "ax1.annotate('$\\Delta Q_'+plane+'$= %.1e+/-%.1e'%(ts_mean,ts_std),xy=(Coll.t_str[5], Coll.values_ma[5]))\n",
    "title(tag.replace('_',' ')+' B'+str(beam)+plane)\n",
    "ax2 = ax1.twinx()\n",
    "h0, = ax2.plot(np.array(BBQ_RAW.t_str)[mask1], y1, 'or',alpha=0.5,markerfacecolor='r',markeredgecolor='r')\n",
    "h1, = ax2.plot(np.array(BBQ_RAW.t_str)[mask2][mask_tune], y2[mask_tune], 'ok',alpha=.5,markerfacecolor='k',markeredgecolor='k')\n",
    "ax2.set_ylim(-2.5e-4, 2.5e-4)\n",
    "ax2.yaxis.set_ticks([])\n",
    "\n",
    "legend([h0, h1, h2],['$Q_'+plane+'$ gap up' , '$Q_'+plane+'$ gap down', 'Collimator full gap'])\n",
    "\n",
    "\n",
    "\n",
    "# distribution\n",
    "ax1 = plt.subplot2grid((1, 3), (0, 2), colspan=1)\n",
    "ax1.set_ylim(-2.5e-4, 2.5e-4)\n",
    "ax1.yaxis.set_ticks([])\n",
    "ax1.xaxis.set_ticks([])\n",
    "\n",
    "ax2=ax1.twinx()\n",
    "n, bins, patches = hist(y1, 100, range = (-2.5e-4, 2.5e-4), normed=1, facecolor='r', alpha=0.75, orientation=\"horizontal\")\n",
    "n, bins, patches = hist(y2, 100, range = (-2.5e-4, 2.5e-4), normed=1, facecolor='k', alpha=0.75, orientation=\"horizontal\")\n",
    "ax2.yaxis.tick_right()\n",
    "ax2.yaxis.set_ticks([-2e-4, -1e-4, 0, 1e-4, 2e-4])\n",
    "ax2.set_ylabel('$\\Delta Q_'+plane+'$')\n",
    "ax2.set_ylim(-2.5e-4, 2.5e-4)\n",
    "tight_layout()\n",
    "\n",
    "\n",
    "print '%.1e+/-%.1e'%(y1_mean,y1_std)\n",
    "print '%.1e+/-%.1e'%(y2_mean,y2_std)\n",
    "print 'tune shift: %.1e+/-%.1e'%(ts_mean,ts_std)\n",
    "\n",
    "savefig(output_path+tag+'_vs_gap_B'+str(beam)+plane+'.pdf', transparent=True)\n",
    "savefig(output_path+tag+'_vs_gap_B'+str(beam)+plane+'.png', transparent=True)\n",
    "output_path+tag+'_vs_gap_B'+str(beam)+plane+'.pdf'"
   ]
  },
  {
   "cell_type": "code",
   "execution_count": null,
   "metadata": {
    "collapsed": false
   },
   "outputs": [],
   "source": [
    "ax1.annotate?"
   ]
  },
  {
   "cell_type": "code",
   "execution_count": null,
   "metadata": {
    "collapsed": true
   },
   "outputs": [],
   "source": [
    "hist?"
   ]
  }
 ],
 "metadata": {
  "kernelspec": {
   "display_name": "Python 2",
   "language": "python",
   "name": "python2"
  },
  "language_info": {
   "codemirror_mode": {
    "name": "ipython",
    "version": 2
   },
   "file_extension": ".py",
   "mimetype": "text/x-python",
   "name": "python",
   "nbconvert_exporter": "python",
   "pygments_lexer": "ipython2",
   "version": "2.7.11"
  }
 },
 "nbformat": 4,
 "nbformat_minor": 0
}
